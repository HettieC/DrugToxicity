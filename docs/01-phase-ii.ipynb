{
 "cells": [
  {
   "cell_type": "markdown",
   "id": "1841086d",
   "metadata": {},
   "source": [
    "#Phase II metabolism of paracetamol"
   ]
  },
  {
   "cell_type": "markdown",
   "id": "ea2b5c74",
   "metadata": {},
   "source": []
  }
 ],
 "metadata": {
  "language_info": {
   "name": "python"
  }
 },
 "nbformat": 4,
 "nbformat_minor": 5
}
