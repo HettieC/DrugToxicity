{
 "cells": [
  {
   "cell_type": "markdown",
   "id": "b25faaa8",
   "metadata": {},
   "source": [
    "#Phase I metabolism of paracetamol"
   ]
  },
  {
   "cell_type": "markdown",
   "id": "9c0d40a5",
   "metadata": {},
   "source": []
  }
 ],
 "metadata": {
  "language_info": {
   "name": "python"
  }
 },
 "nbformat": 4,
 "nbformat_minor": 5
}
